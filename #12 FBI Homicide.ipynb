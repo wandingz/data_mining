{
 "cells": [
  {
   "cell_type": "code",
   "execution_count": 2,
   "metadata": {
    "collapsed": true
   },
   "outputs": [],
   "source": [
    "#12 FBI Homicide\n",
    "\n",
    "import pandas\n",
    "import numpy\n",
    "import matplotlib.pyplot as plt\n",
    "from IPython.display import display"
   ]
  },
  {
   "cell_type": "code",
   "execution_count": 4,
   "metadata": {
    "collapsed": true
   },
   "outputs": [],
   "source": [
    "pandas.set_option('display.notebook_repr_html', True)\n",
    "pandas.set_option('display.precision', 2)"
   ]
  },
  {
   "cell_type": "code",
   "execution_count": null,
   "metadata": {
    "collapsed": true
   },
   "outputs": [],
   "source": [
    "totals = pandas.read_csv('total.csv', '\\t', index_col=0)\n",
    "guns = pandas.read_csv('guns.csv', '\\t', index_col=0)\n",
    "gdp = pandas.read_csv('gdp.csv', '\\t', index_col=1)\n",
    "\n",
    "totals"
   ]
  },
  {
   "cell_type": "code",
   "execution_count": null,
   "metadata": {
    "collapsed": true
   },
   "outputs": [],
   "source": [
    "#combine the three data frames to from one data frame\n",
    "\n",
    "data = totals.join(guns).join(gdp)\n",
    "\n",
    "data"
   ]
  },
  {
   "cell_type": "code",
   "execution_count": null,
   "metadata": {
    "collapsed": true
   },
   "outputs": [],
   "source": [
    "#create a new column\n",
    "\n",
    "data['Gun Percent'] = 100 * data['Gun Homicides'] / data['Homicides']\n",
    "\n",
    "data"
   ]
  },
  {
   "cell_type": "code",
   "execution_count": null,
   "metadata": {
    "collapsed": true
   },
   "outputs": [],
   "source": [
    "#delete unneeded columns\n",
    "\n",
    "del data['Unintentional'], data['Undetermined'], data['Gun Suicides']\n",
    "\n",
    "data"
   ]
  },
  {
   "cell_type": "code",
   "execution_count": null,
   "metadata": {
    "collapsed": true
   },
   "outputs": [],
   "source": [
    "#drop na entries\n",
    "\n",
    "data = data.dropna()"
   ]
  },
  {
   "cell_type": "code",
   "execution_count": null,
   "metadata": {
    "collapsed": true
   },
   "outputs": [],
   "source": [
    "#sort the data data frame\n",
    "\n",
    "data = data.sort_values(by='Gun Homicides', ascending=False)\n",
    "\n",
    "data"
   ]
  },
  {
   "cell_type": "code",
   "execution_count": null,
   "metadata": {
    "collapsed": true
   },
   "outputs": [],
   "source": [
    "#function to plot capita data\n",
    "\n",
    "def plot_percapita(df, limit=10):\n",
    "    df = df.ix[:, ['Homicides', 'Gun Homicides']][:limit]\n",
    "    df['Total Homicides'] - df['Homicides'] = df['Gun Homicides']\n",
    "    del df['Homicids']\n",
    "    df.plot(kind='bar', stacked=True, sorted_columns=True)\n",
    "    plt.ylabel('per 100k')\n",
    "    plt.show()\n",
    "    \n",
    "def display_relevant(df, limit=10):\n",
    "    display(df.ix[:, ['Homicides', 'Gun Homicides', 'Gun Data Source']][:limit])\n",
    "    \n",
    "def plot_percent(df, limit=10):\n",
    "    df['Gun Percent'][:limit].plot()\n",
    "    plt.title('% Gun Homicide')\n",
    "    plt.show()"
   ]
  },
  {
   "cell_type": "code",
   "execution_count": null,
   "metadata": {
    "collapsed": true
   },
   "outputs": [],
   "source": [
    "display_relevant(data, 15)"
   ]
  },
  {
   "cell_type": "code",
   "execution_count": null,
   "metadata": {
    "collapsed": true
   },
   "outputs": [],
   "source": [
    "#line chart\n",
    "\n",
    "plot_percent(data, 5)"
   ]
  },
  {
   "cell_type": "code",
   "execution_count": null,
   "metadata": {
    "collapsed": true
   },
   "outputs": [],
   "source": [
    "#stack bar chart\n",
    "\n",
    "plot_percapita(data, 5)"
   ]
  },
  {
   "cell_type": "code",
   "execution_count": null,
   "metadata": {
    "collapsed": true
   },
   "outputs": [],
   "source": []
  }
 ],
 "metadata": {
  "kernelspec": {
   "display_name": "Python 3",
   "language": "python",
   "name": "python3"
  },
  "language_info": {
   "codemirror_mode": {
    "name": "ipython",
    "version": 3
   },
   "file_extension": ".py",
   "mimetype": "text/x-python",
   "name": "python",
   "nbconvert_exporter": "python",
   "pygments_lexer": "ipython3",
   "version": "3.6.1"
  }
 },
 "nbformat": 4,
 "nbformat_minor": 2
}
