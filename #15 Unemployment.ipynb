{
 "cells": [
  {
   "cell_type": "code",
   "execution_count": 3,
   "metadata": {
    "collapsed": true
   },
   "outputs": [],
   "source": [
    "#15 Unemployment dataset\n",
    "\n",
    "import numpy as np\n",
    "import matplotlib.pyplot as pp\n",
    "import pandas as pd\n",
    "import matplotlib\n",
    "from matplotlib import cm\n",
    "%matplotlib inline\n",
    "matplotlib.style.use('ggplot')"
   ]
  },
  {
   "cell_type": "code",
   "execution_count": 4,
   "metadata": {},
   "outputs": [
    {
     "name": "stdout",
     "output_type": "stream",
     "text": [
      "2.4.1\n"
     ]
    },
    {
     "name": "stderr",
     "output_type": "stream",
     "text": [
      "IOPub data rate exceeded.\n",
      "The notebook server will temporarily stop sending output\n",
      "to the client in order to avoid crashing it.\n",
      "To change this limit, set the config variable\n",
      "`--NotebookApp.iopub_data_rate_limit`.\n"
     ]
    }
   ],
   "source": [
    "#sign in to plotly, www.plot.ly\n",
    "\n",
    "import plotly\n",
    "import plotly.plotly as py\n",
    "py.sign_in('plotlywd', 'E0Ljrx6ZsrVg8RTy7XG8')\n",
    "print(plotly.__version__)\n",
    "plotly.offline.init_notebook_mode() #run at the start of every notebook"
   ]
  },
  {
   "cell_type": "code",
   "execution_count": null,
   "metadata": {
    "collapsed": true
   },
   "outputs": [],
   "source": [
    "#read in the csv file\n",
    "\n",
    "UnemploymentByState = pd.read_csv('Unemployment.csv')\n",
    "StatFIPS = pd.read_csv('StateFIPS.csv', dtype=({'statefips':str})\n",
    "SuperSector = pd.read_csv('SuperSectors.csv', dtype=({'supersector':str})\n",
    "NationalUnemploymentPercentage = pd.read_csv('NationalUnemploymentPercentagepd.csv')\n",
    "EmploymenttByStateFor2007 = pd.read_csv('EmploymenttByStateFor2007.csv', dtype=({'supersector':str})"
   ]
  },
  {
   "cell_type": "code",
   "execution_count": null,
   "metadata": {
    "collapsed": true
   },
   "outputs": [],
   "source": [
    "#display the national Unemployemnt Rate Percentage from 2007-2013\n",
    "\n",
    "NationalUnemploymentTransposed = NationalUnemploymentPercentage.set_index(['Series ID']).transpose()\n",
    "NationalUnemploymentPlot = NationalUnemploymentTransposed.plot.line(legend=False,\n",
    "                                                                    figsize={16,10},\n",
    "                                                                    title='National Unemployment Rate 2007-2013')\n",
    "NationalUnemploymentPlot.set_ylabel('Unemployment Rate percentage')"
   ]
  },
  {
   "cell_type": "code",
   "execution_count": null,
   "metadata": {
    "collapsed": true
   },
   "outputs": [],
   "source": [
    "#simple ggplot line chart"
   ]
  },
  {
   "cell_type": "code",
   "execution_count": null,
   "metadata": {
    "collapsed": true
   },
   "outputs": [],
   "source": [
    "#display the Unemployment Rate Percentage by State using the FIPS values\n",
    "\n",
    "#extract the FIPS code and create a new column named statefips\n",
    "UnemploymentByState['statefips'] = UnemploymentByState.SeriesID.str[5:7]\n",
    "\n",
    "#merge the two date frames jpining on statefips and creating a new data frame\n",
    "UnemploymentByState = pd.merge(UnemploymentByState, StateFIPS,\n",
    "                               on='statefips')\n",
    "#UnemploymentByState.head()\n",
    "\n",
    "#drop unneeded columns from the data frame\n",
    "UnemploymentByState.drop(['SeriesID','statefips','statebrev'], axis=1, inplace=True)\n",
    "\n",
    "UnemploymentByStateTransposed = UnemploymentByState.set_index('statename').transpose()\n",
    "UnemploymentByStatePlot = UnemploymentByStateTransposed.plot.line(legend=False,\n",
    "                                                                  figsize=(16,10),\n",
    "                                                                  title='Unemployment For States 2007-2013')\n",
    "UnemploymentByStatePlot.set_ylabel('Unemployement Rate Percentage by State')"
   ]
  },
  {
   "cell_type": "code",
   "execution_count": null,
   "metadata": {
    "collapsed": true
   },
   "outputs": [],
   "source": [
    "#create a new function to draw for a particular stat\n",
    "\n",
    "UnemploymentIndexedByState = UnemploymentIndexedByState.set_index('statename')\n",
    "\n",
    "def drawStateUnemployment(state):\n",
    "    UnemploymentIndexedByState.loc[state].plot(legend=True,\n",
    "                                               figsize=(16,10),\n",
    "                                               title='Unemployemnt 2007-2013') #.loc by label while .iloc by index\n",
    "    "
   ]
  },
  {
   "cell_type": "code",
   "execution_count": null,
   "metadata": {
    "collapsed": true
   },
   "outputs": [],
   "source": [
    "#draw Maryland and Virginia\n",
    "drawStateUnemployment('Maryland')\n",
    "drawStateUnemployment('Virginia')"
   ]
  },
  {
   "cell_type": "code",
   "execution_count": null,
   "metadata": {
    "collapsed": true
   },
   "outputs": [],
   "source": [
    "#average Unemployent Rate Percentae\n",
    "\n",
    "#create a new column avgunemployment for the Average Unemploymnet\n",
    "\n",
    "UnemploymentByState['avgunemployment'] = UnemploymentByState.mean(axis=1)\n",
    "\n",
    "#create a new data frame and sort the values\n",
    "AverageUnemployment = UnemploymentByState(['statename','avgunemployment'])\n",
    "AverageUnemployment = AverageUnemployemnt.sort_values(by='avgunemployment',\n",
    "                                                      ascending=False)\n",
    "#AverageUnemployment.head()\n",
    "\n",
    "#merge the Average Unemployment with StateFIPS on statement\n",
    "AverageUnemployment = pd.merge(AverageUnemployment, StateFIPS, on='statename')\n",
    "\n",
    "AverageUnemployment.columns = ['statename','Average Unemployment Rate 2007-2013','StateFIPS','state']\n",
    "#AverageUnemployment.head()\n",
    "\n",
    "AverageUnemployment = AverageUnemployment.round({'Average Unemployment Rate 2007-2013':2})"
   ]
  },
  {
   "cell_type": "code",
   "execution_count": null,
   "metadata": {
    "collapsed": true
   },
   "outputs": [],
   "source": [
    "#using plotly to fraw a choropleth map of the US; this is a map that\n",
    "#uses color and position to visualize data\n",
    "\n",
    "#set scale and color ranges\n",
    "scale = [[0.0, 'rgb(223,221,228)'], #rgb(red, green, blue)\n",
    "         [0.2, 'rgb(199,199,216)'],\n",
    "         [0.4, 'rgb(169,170,201)'],\n",
    "         [0.6, 'rgb(139,135,181)'],\n",
    "         [0.8, 'rgb(98,88,158)'],\n",
    "         [1.0, 'rgb(63,21,122)'],]\n",
    "\n",
    "#creat a new text column\n",
    "AverageUnemployment['text'] = AverageUnemployment['state']\n",
    "\n",
    "#dataset to be graphed; this is from plotly with values adjusted for our data\n",
    "data = [dict(type='choropleth',\n",
    "        colorscale=False,\n",
    "        locations=AverageUnemployment['state'],\n",
    "        z=AverageUnemployment['Average Unemployment Rate 2007-2013'].astype(float),\n",
    "        locationmode='USA-states',\n",
    "        text=AverageUnemployment['text'],\n",
    "        hoverinfo='location+z',\n",
    "        marker=dict(line=dict(color='rgb(255,255,255)',\n",
    "                             witch=2)),\n",
    "        colorbar=dict(title='Average Unemployment Rate 2007-2013'))]\n",
    "\n",
    "layout = dict(title='Average Unemployment Rate 2007-2013<br />(Hover for Unemployment Rate)',\n",
    "              geo=dict(scope='USA',\n",
    "                      projection=dict(type='albers usa'),\n",
    "                      showlakes=True,\n",
    "                      lakecolor='rgb(95,145,237)'))\n",
    "\n",
    "fig = dict(data=data, layout=layout)\n",
    "py.iplot(fig, validate=False, filename='Unemployment-Geo-map')"
   ]
  },
  {
   "cell_type": "code",
   "execution_count": null,
   "metadata": {
    "collapsed": true
   },
   "outputs": [],
   "source": [
    "#Unemployment Rate by State 2007-2013; some high and low states\n",
    "\n",
    "UnemployementByStateHilLo = UnemployementByStateTransposed[['Nevade',\n",
    "                                                            'Michigan',\n",
    "                                                            'California',\n",
    "                                                            'South Dakota',\n",
    "                                                            'Nebraska',\n",
    "                                                            'North Dakota']]\n",
    "UnemployementByStateHiLoPlot = UnemployementByStateHilLo.plot.line(legend=True,\n",
    "                                                                   figsize=(16,10),\n",
    "                                                 title='Unemployement By State 2007-2013 High and Low States')\n",
    "\n",
    "UnemployementByStateHiLoPlot.set_ylable('Unemployement Percentate Rate')"
   ]
  },
  {
   "cell_type": "code",
   "execution_count": null,
   "metadata": {
    "collapsed": true
   },
   "outputs": [],
   "source": [
    "#state employment by industry\n",
    "\n",
    "#creat a new statefips and sector column for data frame EmploymentByStateFor2007\n",
    "\n",
    "EmploymentByStateFor2007['statefips'] = EmploymentByStateFor2007.SeriesID.str[3:5]\n",
    "EmploymentByStateFor2007['supersector'] = EmploymentByStateFor2007.SeriesID.str[10:12]\n",
    "\n",
    "#creat a new average column\n",
    "EmploymentByStateFor2007['average2007'] = EmploymentByStateFor2007.mean(axis=1)\n",
    "\n",
    "#creat a new data frame AverageEmployment2007\n",
    "AverageEmployment2007 = EmploymentByStateFor2007[['statefips',\n",
    "                                                  'supersector',\n",
    "                                                  'average2007']]\n",
    "AverageEmployment2007 = pd.merge(AverageEmployment2007, StateFIPS,\n",
    "                                 on='statefips')\n",
    "\n",
    "#create a new data frame for average of non-farm sectors\n",
    "AverageTotalNonFarm2007 = AverageEmployment2007[AverageEmployment2007['supersector']=='00'] #compare & assigned\n",
    "AverageTotalNonFarm2007 = AverageTotalNonFarm2007[['statefips',\n",
    "                                    'average2007']].rename(columns={'average2007':'averagenonfarm2007'})\n",
    "AverageTotalNonFarm2007 = pd.merge(AverageEmployment2007,\n",
    "                                   AverageTotalNonFarm2007,\n",
    "                                   on='statefips')\n",
    "AverageTotalNonFarm2007.head()"
   ]
  },
  {
   "cell_type": "code",
   "execution_count": null,
   "metadata": {
    "collapsed": true
   },
   "outputs": [],
   "source": [
    "#create a new column emppercentbyess\n",
    "#ess is in the SuperSectiors data frame and represente the industries\n",
    "\n",
    "AverageEmployment2007['employmentbyess'] = AverageEmployment2007['average2007']/AverageEmployment2007['averagenonfarm2007']\n",
    "AverageEmployment2007 = pd.merge(AverageEmployment2007, SuperSector,\n",
    "                                 on='supersector')\n",
    "PercentByEss2007 = AverageEmployment2007[['statename','emppercentbyess','essname']]\n",
    "PercentByEss2007Transposed = PercentByEss2007.pivot(index='essname',\n",
    "                                                    columns='statename',\n",
    "                                                    values='emppercentbyess')"
   ]
  },
  {
   "cell_type": "code",
   "execution_count": null,
   "metadata": {
    "collapsed": true
   },
   "outputs": [],
   "source": [
    "#define a function for creating aie chart for state employment\n",
    "#within industry\n",
    "\n",
    "def drawStateIndustry(state):\n",
    "    stateIndustryComparison = PercentByEss2007Transposed[[state]].drop('Total Nonfarm')\n",
    "    statePlot = stateIndustryComparison.plot.pie(subplots=True,\n",
    "                                                 colormap='Set1',\n",
    "                                                 autopct='%0.3f',\n",
    "                                                 fontsize=10,\n",
    "                                                 figsize=(10,10),\n",
    "                                                 legend=False,\n",
    "                                                 title=state)\n",
    "    statePlot[0].set_ylabel('')"
   ]
  },
  {
   "cell_type": "code",
   "execution_count": null,
   "metadata": {
    "collapsed": true
   },
   "outputs": [],
   "source": [
    "drawStateByIndustry('Virginia')"
   ]
  },
  {
   "cell_type": "code",
   "execution_count": null,
   "metadata": {
    "collapsed": true
   },
   "outputs": [],
   "source": [
    "#add these lines to draw all the states\n",
    "states = PercentbyEss2007['statename']\n",
    "\n",
    "states.head()\n",
    "\n",
    "pp.rcParams.update{{'figure.max_open_warning':0}} #turn off the more than\n",
    "for sate in states:\n",
    "    drawStateIndustry(state)"
   ]
  },
  {
   "cell_type": "code",
   "execution_count": null,
   "metadata": {
    "collapsed": true
   },
   "outputs": [],
   "source": []
  },
  {
   "cell_type": "code",
   "execution_count": null,
   "metadata": {
    "collapsed": true
   },
   "outputs": [],
   "source": [
    "    "
   ]
  }
 ],
 "metadata": {
  "kernelspec": {
   "display_name": "Python [default]",
   "language": "python",
   "name": "python3"
  },
  "language_info": {
   "codemirror_mode": {
    "name": "ipython",
    "version": 3
   },
   "file_extension": ".py",
   "mimetype": "text/x-python",
   "name": "python",
   "nbconvert_exporter": "python",
   "pygments_lexer": "ipython3",
   "version": "3.6.3"
  }
 },
 "nbformat": 4,
 "nbformat_minor": 2
}
